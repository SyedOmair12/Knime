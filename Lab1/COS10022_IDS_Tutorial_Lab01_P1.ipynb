{
  "nbformat": 4,
  "nbformat_minor": 0,
  "metadata": {
    "kernelspec": {
      "display_name": "Python 3",
      "language": "python",
      "name": "python3"
    },
    "language_info": {
      "codemirror_mode": {
        "name": "ipython",
        "version": 3
      },
      "file_extension": ".py",
      "mimetype": "text/x-python",
      "name": "python",
      "nbconvert_exporter": "python",
      "pygments_lexer": "ipython3",
      "version": "3.7.4"
    },
    "colab": {
      "name": "COS10022_IDS_Tutorial_Week01.ipynb",
      "provenance": [],
      "collapsed_sections": []
    }
  },
  "cells": [
    {
      "cell_type": "code",
      "metadata": {
        "id": "Xf3utY2AKxeW"
      },
      "source": [
        "# Let's create the first comment in your program."
      ],
      "execution_count": null,
      "outputs": []
    },
    {
      "cell_type": "code",
      "metadata": {
        "id": "VKC89V2EKxea"
      },
      "source": [
        "print(5)"
      ],
      "execution_count": null,
      "outputs": []
    },
    {
      "cell_type": "code",
      "metadata": {
        "id": "y80rlnYgKxed"
      },
      "source": [
        "print(\"I'm learning Python Programming.\")"
      ],
      "execution_count": null,
      "outputs": []
    },
    {
      "cell_type": "code",
      "metadata": {
        "id": "NxA96wFlKxef"
      },
      "source": [
        "a = 1\n",
        "b = 6\n",
        "print(a)\n",
        "print(b)\n",
        "print(a,b)"
      ],
      "execution_count": null,
      "outputs": []
    },
    {
      "cell_type": "code",
      "metadata": {
        "id": "_hZMGDZTKxei"
      },
      "source": [
        "a = b\n",
        "b = \"It's new!\"\n",
        "print(a,b)"
      ],
      "execution_count": null,
      "outputs": []
    },
    {
      "cell_type": "code",
      "metadata": {
        "id": "8BxLCU-OKxej"
      },
      "source": [
        "# Brainstorm 1\n",
        "\n",
        "# Initial State\n",
        "a = \"Alpha\"\n",
        "b = 'Beta'\n",
        "print(\"Before:\")\n",
        "print(\"a =\", a, \"\\nb =\", b)\n",
        "\n",
        "# This is how you're going to do it.\n",
        "temp = a\n",
        "a = b\n",
        "b = temp\n",
        "print(\"\\nAfter:\")\n",
        "print(\"a =\", a, \"\\nb =\", b)"
      ],
      "execution_count": null,
      "outputs": []
    },
    {
      "cell_type": "code",
      "metadata": {
        "id": "JZmtXRFzKxek"
      },
      "source": [
        "# Set input variables\n",
        "a = 2\n",
        "b = 3\n",
        "\n",
        "# Main program\n",
        "if a < b:\n",
        "    print(\"a is less than b.\")\n",
        "else:\n",
        "    print(\"a is greater than or equal to b.\")"
      ],
      "execution_count": null,
      "outputs": []
    },
    {
      "cell_type": "code",
      "metadata": {
        "id": "jTvQLzILKxel"
      },
      "source": [
        "# Set input variables\n",
        "a = 5\n",
        "b = 3\n",
        "\n",
        "# Main program\n",
        "if a < b:\n",
        "    print(\"a is less than b.\")\n",
        "else:\n",
        "    print(\"a is greater than or equal to b.\")"
      ],
      "execution_count": null,
      "outputs": []
    },
    {
      "cell_type": "code",
      "metadata": {
        "id": "BkQhEdRXKxel"
      },
      "source": [
        "# Brainstorm 2\n",
        "\n",
        "# initial values\n",
        "x = 10\n",
        "burger = 12\n",
        "\n",
        "# main program\n",
        "if x >= burger:\n",
        "    print('You can afford to have a burger meal.')\n",
        "else:\n",
        "    print(\"The burger set is too expensive. You can't afford it.\")"
      ],
      "execution_count": null,
      "outputs": []
    },
    {
      "cell_type": "code",
      "metadata": {
        "id": "DAfQtaspKxem"
      },
      "source": [
        "# Brainstorm 3\n",
        "\n",
        "# initial values\n",
        "x = 10\n",
        "burger = 12\n",
        "hotdog = 8\n",
        "\n",
        "# main program\n",
        "if x >= burger:\n",
        "    if x >= hotdog:\n",
        "        print(\"You can afford choose either a burger or a hotdog set as the meal.\")\n",
        "    else:\n",
        "        print(\"You can only afford to have a burger set.\")\n",
        "else:\n",
        "    if x >= hotdog:\n",
        "        print(\"You can only afford to have a hotdog set.\")\n",
        "    else:\n",
        "        print(\"You cannot afford either a burger or a hotdog set as the meal.\")"
      ],
      "execution_count": null,
      "outputs": []
    },
    {
      "cell_type": "code",
      "metadata": {
        "id": "NsMpJmeQKxen"
      },
      "source": [
        "# The three cases example\n",
        "\n",
        "# Set input variables\n",
        "a = 2\n",
        "b = 3\n",
        "\n",
        "# Main program\n",
        "if a < b:\n",
        "    print(\"a is less than b.\")\n",
        "elif a ==b:\n",
        "    print(\"a is equal to b.\")\n",
        "else:\n",
        "    print(\"a is greater than b.\")"
      ],
      "execution_count": null,
      "outputs": []
    },
    {
      "cell_type": "code",
      "metadata": {
        "id": "x6m4Ff2tKxep"
      },
      "source": [
        "# Functions\n",
        "\n",
        "def my_first_function():\n",
        "    print(\"This line is inside the function\")\n",
        "    print(\"This line is also inside the function\")\n",
        "    \n",
        "print(\"This line is outside of the function\")"
      ],
      "execution_count": null,
      "outputs": []
    },
    {
      "cell_type": "code",
      "metadata": {
        "id": "MF1blfIcKxeq"
      },
      "source": [
        "# Functions\n",
        "\n",
        "def my_first_function():\n",
        "    print(\"This line is inside the function\")\n",
        "    print(\"This line is also inside the function\")\n",
        "    \n",
        "print(\"This line is outside of the function\")\n",
        "my_first_function()"
      ],
      "execution_count": null,
      "outputs": []
    },
    {
      "cell_type": "code",
      "metadata": {
        "id": "2LeawQ0jKxeq"
      },
      "source": [
        "# Passing variable(s) into functions\n",
        "\n",
        "def function2(var1):\n",
        "    print(\"The variable sent to the function is\", var1)\n",
        "    \n",
        "print(\"This line is outside of the function\")\n",
        "myvar = 5\n",
        "function2(myvar)"
      ],
      "execution_count": null,
      "outputs": []
    },
    {
      "cell_type": "code",
      "metadata": {
        "id": "WdGpIEKSKxer"
      },
      "source": [
        "# Return value from a function\n",
        "\n",
        "def function3(var1):\n",
        "    print(\"The variable sent to the function is\", var1)\n",
        "    return 3 * var1 + 2\n",
        "    \n",
        "print(\"This line is outside of the function\")\n",
        "myvar = 5\n",
        "result = function3(myvar)\n",
        "print(result)"
      ],
      "execution_count": null,
      "outputs": []
    },
    {
      "cell_type": "code",
      "metadata": {
        "id": "X1MnnZdXKxes"
      },
      "source": [
        "# Passing and returning multiple values from a function\n",
        "\n",
        "def function3(var1, var2):\n",
        "    return (3 * var1 + 2), (-1 * var2)\n",
        "    \n",
        "print(\"This line is outside of the function\")\n",
        "myvar = 5\n",
        "[result, res2] = function3(myvar, (myvar - 2))\n",
        "print(result, res2)"
      ],
      "execution_count": null,
      "outputs": []
    }
  ]
}