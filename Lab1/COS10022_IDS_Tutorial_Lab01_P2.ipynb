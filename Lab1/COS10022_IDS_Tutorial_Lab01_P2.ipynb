{
  "nbformat": 4,
  "nbformat_minor": 0,
  "metadata": {
    "kernelspec": {
      "display_name": "Python 3",
      "language": "python",
      "name": "python3"
    },
    "language_info": {
      "codemirror_mode": {
        "name": "ipython",
        "version": 3
      },
      "file_extension": ".py",
      "mimetype": "text/x-python",
      "name": "python",
      "nbconvert_exporter": "python",
      "pygments_lexer": "ipython3",
      "version": "3.7.4"
    },
    "colab": {
      "name": "COS10022_IDS_Tutorial_Week02.ipynb",
      "provenance": [],
      "collapsed_sections": []
    }
  },
  "cells": [
    {
      "cell_type": "code",
      "metadata": {
        "id": "zjGnKs3uM0Jg"
      },
      "source": [
        "# Create a list called \"a\"\n",
        "a = [3,1,4,-2]\n",
        "print(a)"
      ],
      "execution_count": null,
      "outputs": []
    },
    {
      "cell_type": "code",
      "metadata": {
        "id": "bOsUhzCJM0Jv"
      },
      "source": [
        "# Insert an item at the end of a list\n",
        "a.append('new item')\n",
        "print(a)"
      ],
      "execution_count": null,
      "outputs": []
    },
    {
      "cell_type": "code",
      "metadata": {
        "id": "5qCYy21OM0Jw"
      },
      "source": [
        "# Insert an item at a specifiec location\n",
        "a.insert(2,5)\n",
        "print(a)"
      ],
      "execution_count": null,
      "outputs": []
    },
    {
      "cell_type": "code",
      "metadata": {
        "id": "1ebBDkRXM0Jx"
      },
      "source": [
        "# Create a list inside a list\n",
        "b = [1,2,3]\n",
        "b.append([5,6])\n",
        "print(b)"
      ],
      "execution_count": null,
      "outputs": []
    },
    {
      "cell_type": "code",
      "metadata": {
        "id": "BHvI9eQDM0Jy"
      },
      "source": [
        "# Pop (delete) an item from the list\n",
        "c = [3,7,2,8,5]\n",
        "print(c)\n",
        "\n",
        "c.pop() # pop the last item and remove it from the list\n",
        "print(c)\n",
        "\n",
        "c.pop(1) # pop the item sitted on the specific point\n",
        "print(c)"
      ],
      "execution_count": null,
      "outputs": []
    },
    {
      "cell_type": "code",
      "metadata": {
        "id": "oPqYVsMyM0Jy"
      },
      "source": [
        "# Retrieve the specific item on the list\n",
        "print(b)\n",
        "print(b[1])\n",
        "print(b[3])\n",
        "print(b[3][1])"
      ],
      "execution_count": null,
      "outputs": []
    },
    {
      "cell_type": "code",
      "metadata": {
        "id": "LTkK3TaLM0Jz"
      },
      "source": [
        "# Swap items in a list\n",
        "myList = [\"Alpha\", \"Beta\"]\n",
        "print(\"Before:\", myList)\n",
        "myList[0], myList[1] = myList[1], myList[0]\n",
        "print(\"After:\", myList)"
      ],
      "execution_count": null,
      "outputs": []
    },
    {
      "cell_type": "code",
      "metadata": {
        "id": "zj5CeXjvM0J0"
      },
      "source": [
        "# Example of using list() and range()\n",
        "b = [1,2,3,4,5]\n",
        "print(b)\n",
        "c = list(range(1,6))\n",
        "print(c)"
      ],
      "execution_count": null,
      "outputs": []
    },
    {
      "cell_type": "code",
      "metadata": {
        "id": "PP208bgGM0J0"
      },
      "source": [
        "# for-loop example\n",
        "a = [1,2,3]\n",
        "print(\"This is printed without a for-loop:\")\n",
        "print(a[0])\n",
        "print(a[1])\n",
        "print(a[2])\n",
        "\n",
        "print(\"\\nThis is printed with a for-loop:\")\n",
        "for x in [0,1,2]:\n",
        "    print(a[x])"
      ],
      "execution_count": null,
      "outputs": []
    },
    {
      "cell_type": "code",
      "metadata": {
        "id": "skufLLcwM0J1"
      },
      "source": [
        "# for-loop example\n",
        "a = [1,2,3]\n",
        "\n",
        "print(\"This is printed with the elements only (x represents the item/element inside the list, directly):\")\n",
        "for x in a:\n",
        "    print(x)\n",
        "\n",
        "print(\"\\nThe result is equal to print with a for-loop and a range function (mind the count of the index):\")\n",
        "for x in a:\n",
        "    print(a[(x-1)])"
      ],
      "execution_count": null,
      "outputs": []
    },
    {
      "cell_type": "code",
      "metadata": {
        "id": "kJMpS7RqM0J1"
      },
      "source": [
        "# for-loop example\n",
        "a = [1,2,3]\n",
        "\n",
        "print(\"This is printed with a for-loop and a range function:\")\n",
        "print(\"range(3) is equal to range(0,3) and range(0,1,3)\")\n",
        "for x in range(3):\n",
        "    print(a[x])\n",
        "    \n",
        "print(\"\\nThis is printed with a for-loop and a range function with range() and len()\")\n",
        "for x in range(len(a)):\n",
        "    print(a[x])"
      ],
      "execution_count": null,
      "outputs": []
    },
    {
      "cell_type": "code",
      "metadata": {
        "id": "9keXkk_SM0J2"
      },
      "source": [
        "# for-loop example: add sum\n",
        "a = list(range(1,5))\n",
        "print(a)\n",
        "\n",
        "total = 0\n",
        "for i in a:\n",
        "    total += i # This is equal to total = total + i\n",
        "print(total)"
      ],
      "execution_count": null,
      "outputs": []
    }
  ]
}