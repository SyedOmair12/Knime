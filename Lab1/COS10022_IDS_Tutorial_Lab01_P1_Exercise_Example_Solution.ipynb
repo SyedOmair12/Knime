{
  "nbformat": 4,
  "nbformat_minor": 0,
  "metadata": {
    "kernelspec": {
      "display_name": "Python 3",
      "language": "python",
      "name": "python3"
    },
    "language_info": {
      "codemirror_mode": {
        "name": "ipython",
        "version": 3
      },
      "file_extension": ".py",
      "mimetype": "text/x-python",
      "name": "python",
      "nbconvert_exporter": "python",
      "pygments_lexer": "ipython3",
      "version": "3.7.4"
    },
    "colab": {
      "name": "COS10022_IDS_Tutorial_Week01_Exercise_Example_Solution.ipynb",
      "provenance": [],
      "collapsed_sections": []
    }
  },
  "cells": [
    {
      "cell_type": "code",
      "metadata": {
        "id": "lTD5O3pgLz42"
      },
      "source": [
        "# Exercise 1 - Choosing Available Rooms (Solution I)\n",
        "\n",
        "# Define Function\n",
        "def print_room(RoomName):\n",
        "    print(\"Room\", RoomName, \"is available.\")\n",
        "\n",
        "# Initialisation\n",
        "RoomA = 20\n",
        "RoomB = 50\n",
        "RoomC = 120\n",
        "student = 48\n",
        "\n",
        "# Main Program\n",
        "if student > RoomC: # Check whether student number is greater than the largest room capacity\n",
        "    print(\"There is no single room can fit in all students.\")\n",
        "else: # student must be less than or equal to RoomC\n",
        "    print_room(\"RoomC\")\n",
        "    \n",
        "    if student <= RoomB: # Check whether student number is less than or equal to RoomB\n",
        "        print_room(\"RoomB\")\n",
        "        if student <= RoomA: # Check whether student number is less than or equal to RoomA\n",
        "            print_room(\"RoomA\")"
      ],
      "execution_count": null,
      "outputs": []
    },
    {
      "cell_type": "code",
      "metadata": {
        "id": "_VE80e1dLz5C"
      },
      "source": [
        "# Exercise 1 - Choosing Available Rooms (Solution II)\n",
        "\n",
        "# Define Function\n",
        "def print_room(RoomName):\n",
        "    print(\"Room\", RoomName, \"is available.\")\n",
        "\n",
        "# Initialisation\n",
        "RoomA = 20\n",
        "RoomB = 50\n",
        "RoomC = 120\n",
        "student = 48\n",
        "\n",
        "# Main Program\n",
        "if student <= RoomA: # Check whether student number is smaller or equal to RoomA\n",
        "    print_room(\"RoomA\")\n",
        "    print_room(\"RoomB\")\n",
        "    print_room(\"RoomC\")\n",
        "elif student <= RoomB: # Check whether student number is smaller or equal to RoomB\n",
        "    print_room(\"RoomB\")\n",
        "    print_room(\"RoomC\")\n",
        "elif student <= RoomC: # Check whether student number is smaller or equal to RoomC\n",
        "    print_room(\"RoomC\")\n",
        "else:\n",
        "    print(\"There is no single room can fit in all students.\")"
      ],
      "execution_count": null,
      "outputs": []
    },
    {
      "cell_type": "code",
      "metadata": {
        "id": "ol2wDPQgLz5E"
      },
      "source": [
        ""
      ],
      "execution_count": null,
      "outputs": []
    }
  ]
}