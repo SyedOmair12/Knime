{
  "nbformat": 4,
  "nbformat_minor": 0,
  "metadata": {
    "kernelspec": {
      "display_name": "Python 3",
      "language": "python",
      "name": "python3"
    },
    "language_info": {
      "codemirror_mode": {
        "name": "ipython",
        "version": 3
      },
      "file_extension": ".py",
      "mimetype": "text/x-python",
      "name": "python",
      "nbconvert_exporter": "python",
      "pygments_lexer": "ipython3",
      "version": "3.7.4"
    },
    "colab": {
      "name": "COS10022_IDS_Tutorial_Week02_Exercise_Example_Solution.ipynb",
      "provenance": [],
      "collapsed_sections": []
    }
  },
  "cells": [
    {
      "cell_type": "code",
      "metadata": {
        "id": "QwkGpE6ONFIo"
      },
      "source": [
        "# Exercise 1 - Find the sum of multiples of 3 in the given sequence\n",
        "\n",
        "# Initialisation\n",
        "seq = list(range(0,51))\n",
        "target = 3\n",
        "result = 0\n",
        "\n",
        "# Find the answer\n",
        "for i in seq:\n",
        "    if (i % target) == 0:\n",
        "        print(i)\n",
        "        result += i\n",
        "print(\"Final Reslut is:\",result)"
      ],
      "execution_count": null,
      "outputs": []
    },
    {
      "cell_type": "code",
      "metadata": {
        "id": "lYAM_X4XNFI6"
      },
      "source": [
        ""
      ],
      "execution_count": null,
      "outputs": []
    }
  ]
}